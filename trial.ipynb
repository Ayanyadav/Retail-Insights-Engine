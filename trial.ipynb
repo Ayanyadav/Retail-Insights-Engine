{
 "cells": [
  {
   "cell_type": "code",
   "execution_count": 6,
   "metadata": {},
   "outputs": [
    {
     "name": "stdout",
     "output_type": "stream",
     "text": [
      "hello\n"
     ]
    }
   ],
   "source": [
    "print('hello')"
   ]
  },
  {
   "cell_type": "code",
   "execution_count": null,
   "metadata": {},
   "outputs": [],
   "source": [
    "%pip install pandas"
   ]
  },
  {
   "cell_type": "code",
   "execution_count": 34,
   "metadata": {},
   "outputs": [],
   "source": [
    "import numpy as np\n",
    "import pandas as pd\n",
    "df= pd.read_csv(\"Data.csv\")"
   ]
  },
  {
   "cell_type": "code",
   "execution_count": 35,
   "metadata": {},
   "outputs": [
    {
     "data": {
      "text/html": [
       "<div>\n",
       "<style scoped>\n",
       "    .dataframe tbody tr th:only-of-type {\n",
       "        vertical-align: middle;\n",
       "    }\n",
       "\n",
       "    .dataframe tbody tr th {\n",
       "        vertical-align: top;\n",
       "    }\n",
       "\n",
       "    .dataframe thead th {\n",
       "        text-align: right;\n",
       "    }\n",
       "</style>\n",
       "<table border=\"1\" class=\"dataframe\">\n",
       "  <thead>\n",
       "    <tr style=\"text-align: right;\">\n",
       "      <th></th>\n",
       "      <th>BillNo</th>\n",
       "      <th>Itemname</th>\n",
       "      <th>Quantity</th>\n",
       "      <th>Date</th>\n",
       "      <th>Price</th>\n",
       "      <th>CustomerID</th>\n",
       "    </tr>\n",
       "  </thead>\n",
       "  <tbody>\n",
       "    <tr>\n",
       "      <th>0</th>\n",
       "      <td>558638</td>\n",
       "      <td>ZINC METAL HEART DECORATION</td>\n",
       "      <td>12</td>\n",
       "      <td>7/1/2011 8:16</td>\n",
       "      <td>1.25</td>\n",
       "      <td>16317.0</td>\n",
       "    </tr>\n",
       "    <tr>\n",
       "      <th>1</th>\n",
       "      <td>558638</td>\n",
       "      <td>HANGING JAM JAR T-LIGHT HOLDER</td>\n",
       "      <td>24</td>\n",
       "      <td>7/1/2011 8:16</td>\n",
       "      <td>0.85</td>\n",
       "      <td>16317.0</td>\n",
       "    </tr>\n",
       "    <tr>\n",
       "      <th>2</th>\n",
       "      <td>558638</td>\n",
       "      <td>LANTERN CREAM GAZEBO</td>\n",
       "      <td>3</td>\n",
       "      <td>7/1/2011 8:16</td>\n",
       "      <td>4.95</td>\n",
       "      <td>16317.0</td>\n",
       "    </tr>\n",
       "    <tr>\n",
       "      <th>3</th>\n",
       "      <td>558638</td>\n",
       "      <td>ZINC T-LIGHT HOLDER STAR LARGE</td>\n",
       "      <td>12</td>\n",
       "      <td>7/1/2011 8:16</td>\n",
       "      <td>0.95</td>\n",
       "      <td>16317.0</td>\n",
       "    </tr>\n",
       "    <tr>\n",
       "      <th>4</th>\n",
       "      <td>558638</td>\n",
       "      <td>FRENCH TOILET SIGN BLUE METAL</td>\n",
       "      <td>12</td>\n",
       "      <td>7/1/2011 8:16</td>\n",
       "      <td>1.25</td>\n",
       "      <td>16317.0</td>\n",
       "    </tr>\n",
       "  </tbody>\n",
       "</table>\n",
       "</div>"
      ],
      "text/plain": [
       "   BillNo                        Itemname  Quantity           Date  Price  \\\n",
       "0  558638     ZINC METAL HEART DECORATION        12  7/1/2011 8:16   1.25   \n",
       "1  558638  HANGING JAM JAR T-LIGHT HOLDER        24  7/1/2011 8:16   0.85   \n",
       "2  558638            LANTERN CREAM GAZEBO         3  7/1/2011 8:16   4.95   \n",
       "3  558638  ZINC T-LIGHT HOLDER STAR LARGE        12  7/1/2011 8:16   0.95   \n",
       "4  558638   FRENCH TOILET SIGN BLUE METAL        12  7/1/2011 8:16   1.25   \n",
       "\n",
       "   CustomerID  \n",
       "0     16317.0  \n",
       "1     16317.0  \n",
       "2     16317.0  \n",
       "3     16317.0  \n",
       "4     16317.0  "
      ]
     },
     "execution_count": 35,
     "metadata": {},
     "output_type": "execute_result"
    }
   ],
   "source": [
    "df.head()"
   ]
  },
  {
   "cell_type": "code",
   "execution_count": 36,
   "metadata": {},
   "outputs": [
    {
     "data": {
      "text/plain": [
       "<bound method NDFrame.describe of         BillNo                            Itemname  Quantity             Date  \\\n",
       "0       558638         ZINC METAL HEART DECORATION        12    7/1/2011 8:16   \n",
       "1       558638      HANGING JAM JAR T-LIGHT HOLDER        24    7/1/2011 8:16   \n",
       "2       558638                LANTERN CREAM GAZEBO         3    7/1/2011 8:16   \n",
       "3       558638      ZINC T-LIGHT HOLDER STAR LARGE        12    7/1/2011 8:16   \n",
       "4       558638       FRENCH TOILET SIGN BLUE METAL        12    7/1/2011 8:16   \n",
       "...        ...                                 ...       ...              ...   \n",
       "110808  569202                   PLASMATRONIC LAMP         1  9/30/2011 17:22   \n",
       "110809  569202       SET OF 2 ROUND TINS CAMEMBERT         1  9/30/2011 17:22   \n",
       "110810  569202              MINI JIGSAW DOLLY GIRL         2  9/30/2011 17:22   \n",
       "110811  569202           MINI JIGSAW CIRCUS PARADE         2  9/30/2011 17:22   \n",
       "110812  569202  BLUE DRAWER KNOB ACRYLIC EDWARDIAN        10  9/30/2011 17:22   \n",
       "\n",
       "        Price  CustomerID  \n",
       "0        1.25     16317.0  \n",
       "1        0.85     16317.0  \n",
       "2        4.95     16317.0  \n",
       "3        0.95     16317.0  \n",
       "4        1.25     16317.0  \n",
       "...       ...         ...  \n",
       "110808   8.29         NaN  \n",
       "110809   5.79         NaN  \n",
       "110810   0.83         NaN  \n",
       "110811   0.83         NaN  \n",
       "110812   1.25         NaN  \n",
       "\n",
       "[110813 rows x 6 columns]>"
      ]
     },
     "execution_count": 36,
     "metadata": {},
     "output_type": "execute_result"
    }
   ],
   "source": [
    "df.describe"
   ]
  },
  {
   "cell_type": "code",
   "execution_count": 42,
   "metadata": {},
   "outputs": [
    {
     "data": {
      "text/plain": [
       "1"
      ]
     },
     "execution_count": 42,
     "metadata": {},
     "output_type": "execute_result"
    }
   ],
   "source": [
    "\n",
    "df[\"Quantity\"]= df[\"Quantity\"].abs()\n",
    "df[\"Quantity\"].min()"
   ]
  },
  {
   "cell_type": "markdown",
   "metadata": {},
   "source": [
    "List of all the top perforermers and the products which are lagging"
   ]
  },
  {
   "cell_type": "code",
   "execution_count": 49,
   "metadata": {},
   "outputs": [
    {
     "name": "stdout",
     "output_type": "stream",
     "text": [
      "Products which have the highest sales:\n",
      "                                Itemname  Quantity\n",
      "1427             jumbo bag red retrospot     11857\n",
      "187        assorted colour bird ornament     10942\n",
      "2096                      popcorn holder     10604\n",
      "3061   world war 2 gliders asstd designs      7714\n",
      "2997  white hanging heart t-light holder      7304\n",
      "...                                  ...       ...\n",
      "956                 feather pen,hot pink       956\n",
      "3072                wrap alphabet poster       955\n",
      "2237               regency milk jug pink       953\n",
      "2546  set/3 red gingham rose storage box       950\n",
      "1304           heart ivory trellis small       950\n",
      "\n",
      "[312 rows x 2 columns]\n",
      "\n",
      "Products which have the lowest sales:\n",
      "                                 Itemname  Quantity\n",
      "252           beach hut shelf w 3 drawers        17\n",
      "182         ass floral print spirit level        17\n",
      "1395         ivory wire kitchen organiser        17\n",
      "1612  marie antoinette trinket box silver        17\n",
      "2491         set of 4 napkin charms stars        17\n",
      "...                                   ...       ...\n",
      "1773                 nurse's bag soft toy         1\n",
      "158   ant silver lime green boudicca ring         1\n",
      "1859            pair butterfly hair clips         1\n",
      "145     amethyst diamante expandable ring         1\n",
      "327         black+white necklace w tassel         1\n",
      "\n",
      "[767 rows x 2 columns]\n"
     ]
    }
   ],
   "source": [
    "df[\"Itemname\"]=df[\"Itemname\"].str.lower()\n",
    "grouped_data = df.groupby('Itemname')['Quantity'].sum().reset_index()\n",
    "grouped_data = grouped_data.sort_values(by='Quantity', ascending=False)\n",
    "\n",
    "q1=grouped_data[\"Quantity\"].quantile(.25)\n",
    "q3=grouped_data[\"Quantity\"].quantile(.75)\n",
    "\n",
    "iqr= q3-q1\n",
    "upper_bound = q3 + 1.5 * iqr\n",
    "lower_bound = q1 \n",
    "\n",
    "\n",
    "upper_outliers = grouped_data[grouped_data['Quantity'] > upper_bound]\n",
    "below_outliers = grouped_data[grouped_data['Quantity'] < lower_bound]\n",
    "\n",
    "\n",
    "print(\"Products which have the highest sales:\")\n",
    "print(upper_outliers)\n",
    "\n",
    "\n",
    "print(\"\\nProducts which have the lowest sales:\")\n",
    "print(below_outliers)\n"
   ]
  },
  {
   "cell_type": "code",
   "execution_count": null,
   "metadata": {},
   "outputs": [],
   "source": []
  }
 ],
 "metadata": {
  "kernelspec": {
   "display_name": "Retail-Insights-Engine",
   "language": "python",
   "name": "python3"
  },
  "language_info": {
   "codemirror_mode": {
    "name": "ipython",
    "version": 3
   },
   "file_extension": ".py",
   "mimetype": "text/x-python",
   "name": "python",
   "nbconvert_exporter": "python",
   "pygments_lexer": "ipython3",
   "version": "3.11.4"
  }
 },
 "nbformat": 4,
 "nbformat_minor": 2
}
